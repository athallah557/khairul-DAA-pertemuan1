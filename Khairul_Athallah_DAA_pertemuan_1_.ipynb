{
  "nbformat": 4,
  "nbformat_minor": 0,
  "metadata": {
    "colab": {
      "provenance": [],
      "authorship_tag": "ABX9TyP0n/sE4tBwGKJ+FxOLQ4QP",
      "include_colab_link": true
    },
    "kernelspec": {
      "name": "python3",
      "display_name": "Python 3"
    },
    "language_info": {
      "name": "python"
    }
  },
  "cells": [
    {
      "cell_type": "markdown",
      "metadata": {
        "id": "view-in-github",
        "colab_type": "text"
      },
      "source": [
        "<a href=\"https://colab.research.google.com/github/athallah557/khairul-DAA-pertemuan1/blob/main/Khairul_Athallah_DAA_pertemuan_1_.ipynb\" target=\"_parent\"><img src=\"https://colab.research.google.com/assets/colab-badge.svg\" alt=\"Open In Colab\"/></a>"
      ]
    },
    {
      "cell_type": "code",
      "execution_count": null,
      "metadata": {
        "id": "4lUUalt1H_RO",
        "outputId": "3341cf95-3d38-46f2-d3b8-f71810315033",
        "colab": {
          "base_uri": "https://localhost:8080/"
        }
      },
      "outputs": [
        {
          "output_type": "stream",
          "name": "stdout",
          "text": [
            "KPK dari 3 dan 4 adalah: 12\n"
          ]
        }
      ],
      "source": [
        "# Fungsi untuk menghitung KPK dari dua bilangan\n",
        "def hitung_kpk(a, b):\n",
        "    # Menentukan nilai maksimum antara a dan b\n",
        "    maks = max(a, b)\n",
        "    kpk = maks\n",
        "\n",
        "    # Loop untuk mencari KPK\n",
        "    while (kpk % a != 0) or (kpk % b != 0):\n",
        "        kpk += maks\n",
        "\n",
        "    return kpk\n",
        "\n",
        "# Mencari KPK dari 3 dan 4\n",
        "kpk_3_4 = hitung_kpk(3, 4)\n",
        "print(\"KPK dari 3 dan 4 adalah:\", kpk_3_4)\n",
        "\n"
      ]
    },
    {
      "cell_type": "code",
      "source": [
        "# Inisialisasi isi piring\n",
        "piring_1 = \"Manggis\"\n",
        "piring_2 = \"Pisang\"\n",
        "piring_3 = None  # Piring kosong untuk sementara\n",
        "\n",
        "# Tampilkan isi awal piring\n",
        "print(\"Isi awal:\")\n",
        "print(\"Piring 1:\", piring_1)\n",
        "print(\"Piring 2:\", piring_2)\n",
        "\n",
        "# Langkah 1: Pindahkan manggis dari Piring 1 ke Piring 3\n",
        "piring_3 = piring_1\n",
        "piring_1 = None  # Kosongkan Piring 1\n",
        "\n",
        "# Langkah 2: Pindahkan pisang dari Piring 2 ke Piring 1\n",
        "piring_1 = piring_2\n",
        "piring_2 = None  # Kosongkan Piring 2\n",
        "\n",
        "# Langkah 3: Pindahkan manggis dari Piring 3 ke Piring 2\n",
        "piring_2 = piring_3\n",
        "piring_3 = None  # Kosongkan Piring 3\n",
        "\n",
        "# Tampilkan hasil akhir\n",
        "print(\"\\nIsi setelah ditukar:\")\n",
        "print(\"Piring 1:\", piring_1)\n",
        "print(\"Piring 2:\", piring_2)\n"
      ],
      "metadata": {
        "colab": {
          "base_uri": "https://localhost:8080/"
        },
        "id": "b5cEdt7kXwdJ",
        "outputId": "4e619c7e-8677-4903-9cb7-53e6088b79c2"
      },
      "execution_count": null,
      "outputs": [
        {
          "output_type": "stream",
          "name": "stdout",
          "text": [
            "Isi awal:\n",
            "Piring 1: Manggis\n",
            "Piring 2: Pisang\n",
            "\n",
            "Isi setelah ditukar:\n",
            "Piring 1: Pisang\n",
            "Piring 2: Manggis\n"
          ]
        }
      ]
    },
    {
      "cell_type": "code",
      "source": [
        "# Masukkan nilai alas dan tinggi\n",
        "alas = 25\n",
        "tinggi = 30\n",
        "\n",
        "# Hitung luas segitiga dengan rumus L = 1/2 * alas * tinggi\n",
        "luas = 0.5 * alas * tinggi\n",
        "\n",
        "# Tampilkan hasil\n",
        "print(\"Luas segitiga adalah:\", luas)\n"
      ],
      "metadata": {
        "colab": {
          "base_uri": "https://localhost:8080/"
        },
        "id": "ryI4l_p1Ydrb",
        "outputId": "92dce26e-bbce-492b-9afa-ea107a86d635"
      },
      "execution_count": null,
      "outputs": [
        {
          "output_type": "stream",
          "name": "stdout",
          "text": [
            "Luas segitiga adalah: 375.0\n"
          ]
        }
      ]
    },
    {
      "cell_type": "code",
      "source": [
        "# Masukkan angka ke dalam list\n",
        "angka = [5, 3, 9, 2, 7]\n",
        "\n",
        "# Inisialisasi variabel terbesar dengan nilai pertama\n",
        "terbesar = angka[0]\n",
        "\n",
        "# Loop untuk mencari angka terbesar\n",
        "for i in angka:\n",
        "    if i > terbesar:\n",
        "        terbesar = i\n",
        "\n",
        "# Tampilkan angka terbesar\n",
        "print(\"Angka terbesar adalah:\", terbesar)\n"
      ],
      "metadata": {
        "id": "mMpxNFW0Ua1d",
        "outputId": "e3ff5a53-c673-4bd0-d4c3-d482d76f0c2f",
        "colab": {
          "base_uri": "https://localhost:8080/"
        }
      },
      "execution_count": null,
      "outputs": [
        {
          "output_type": "stream",
          "name": "stdout",
          "text": [
            "Angka terbesar adalah: 9\n"
          ]
        }
      ]
    },
    {
      "cell_type": "code",
      "source": [
        "# Masukkan nilai panjang dan tinggi\n",
        "panjang = 5\n",
        "tinggi = 3\n",
        "\n",
        "# Hitung luas jajar genjang dengan rumus L = panjang * tinggi\n",
        "luas = panjang * tinggi\n",
        "\n",
        "# Tampilkan hasil\n",
        "print(\"Luas jajar genjang adalah:\", luas)\n"
      ],
      "metadata": {
        "colab": {
          "base_uri": "https://localhost:8080/"
        },
        "id": "MAceVGxpaw44",
        "outputId": "3f26131a-b880-470c-dabf-69f9b6e2524d"
      },
      "execution_count": null,
      "outputs": [
        {
          "output_type": "stream",
          "name": "stdout",
          "text": [
            "Luas jajar genjang adalah: 15\n"
          ]
        }
      ]
    },
    {
      "cell_type": "code",
      "source": [
        "\n",
        "import math\n",
        "\n",
        "# Masukkan nilai jari-jari dan tinggi\n",
        "jari_jari = 3\n",
        "tinggi = 5\n",
        "\n",
        "# Hitung volume tabung dengan rumus V = π * r^2 * t\n",
        "volume = math.pi * jari_jari ** 2 * tinggi\n",
        "\n",
        "# Tampilkan hasil\n",
        "print(\"Volume tabung adalah:\", volume)\n"
      ],
      "metadata": {
        "colab": {
          "base_uri": "https://localhost:8080/"
        },
        "id": "ukwIRdpma2QC",
        "outputId": "c7c60cb7-4f52-412e-bdbc-6e63ab3f981e"
      },
      "execution_count": null,
      "outputs": [
        {
          "output_type": "stream",
          "name": "stdout",
          "text": [
            "Volume tabung adalah: 141.3716694115407\n"
          ]
        }
      ]
    },
    {
      "cell_type": "code",
      "source": [
        "import math\n",
        "\n",
        "# Masukkan nilai diameter dan tinggi\n",
        "diameter = 5\n",
        "tinggi = 4\n",
        "\n",
        "# Hitung jari-jari dari diameter\n",
        "jari_jari = diameter / 2\n",
        "\n",
        "# Hitung volume kerucut dengan rumus V = 1/3 * π * r^2 * t\n",
        "volume = (1/3) * math.pi * jari_jari ** 2 * tinggi\n",
        "\n",
        "# Tampilkan hasil\n",
        "print(\"Volume kerucut adalah:\", volume)\n"
      ],
      "metadata": {
        "colab": {
          "base_uri": "https://localhost:8080/"
        },
        "id": "OYVM0yC-bOPg",
        "outputId": "3d84ec15-4d96-4b8c-b619-7383ca8f2420"
      },
      "execution_count": null,
      "outputs": [
        {
          "output_type": "stream",
          "name": "stdout",
          "text": [
            "Volume kerucut adalah: 26.17993877991494\n"
          ]
        }
      ]
    }
  ]
}